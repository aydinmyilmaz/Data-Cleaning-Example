{
 "cells": [
  {
   "cell_type": "code",
   "execution_count": 1,
   "metadata": {},
   "outputs": [
    {
     "name": "stderr",
     "output_type": "stream",
     "text": [
      "D:\\anacondasetup\\lib\\site-packages\\IPython\\core\\interactiveshell.py:2728: DtypeWarning: Columns (4,13,19) have mixed types. Specify dtype option on import or set low_memory=False.\n",
      "  interactivity=interactivity, compiler=compiler, result=result)\n"
     ]
    }
   ],
   "source": [
    "import pandas as pd\n",
    "model_df=pd.read_csv(\"dumpster_project_clean_data_dec16.csv\")"
   ]
  },
  {
   "cell_type": "code",
   "execution_count": 2,
   "metadata": {},
   "outputs": [
    {
     "data": {
      "text/plain": [
       "Index(['price_price_deals', 'customer_tons_include_price',\n",
       "       'price_days_included', 'price_yards', 'order_date', 'date_entered',\n",
       "       'customer_waste', 'customer_days_include', 'customer_cost_per_ton',\n",
       "       'date_modified', 'customer_cost_per_day', 'customer_city', 'status',\n",
       "       'customer_zip', 'customer_sub_total', 'customer_delivery_date',\n",
       "       'customer_container_size', 'price_haul', 'customer_state', 'hauler_id',\n",
       "       'price_tons_included', 'id'],\n",
       "      dtype='object')"
      ]
     },
     "execution_count": 2,
     "metadata": {},
     "output_type": "execute_result"
    }
   ],
   "source": [
    "model_df.columns"
   ]
  },
  {
   "cell_type": "code",
   "execution_count": 3,
   "metadata": {},
   "outputs": [
    {
     "name": "stderr",
     "output_type": "stream",
     "text": [
      "D:\\anacondasetup\\lib\\site-packages\\IPython\\core\\interactiveshell.py:2728: DtypeWarning: Columns (4,13,19) have mixed types. Specify dtype option on import or set low_memory=False.\n",
      "  interactivity=interactivity, compiler=compiler, result=result)\n"
     ]
    },
    {
     "name": "stdout",
     "output_type": "stream",
     "text": [
      "price_price_deals\n",
      "customer_waste\n",
      "customer_city\n",
      "status\n",
      "customer_zip\n",
      "customer_state\n",
      "hauler_id\n",
      "id\n"
     ]
    }
   ],
   "source": [
    "import pandas as pd\n",
    "\n",
    "model_df=pd.read_csv(\"dumpster_project_clean_data_dec16.csv\")\n",
    "\n",
    "\n",
    "for col in [\"customer_delivery_date\", \"order_date\",\"date_entered\", \"date_modified\"]:\n",
    "    model_df[col]=pd.to_datetime(model_df[col])\n",
    "    \n",
    "temp_df = model_df\n",
    "\n",
    "import numpy as np\n",
    "\n",
    "for col in model_df.columns:\n",
    "    try:\n",
    "        temp_df.loc[temp_df[col]>temp_df[col].quantile(0.999),col]=np.nan\n",
    "    except:\n",
    "        print (col)\n",
    "        pass"
   ]
  },
  {
   "cell_type": "code",
   "execution_count": 4,
   "metadata": {},
   "outputs": [
    {
     "data": {
      "text/html": [
       "<div>\n",
       "<style scoped>\n",
       "    .dataframe tbody tr th:only-of-type {\n",
       "        vertical-align: middle;\n",
       "    }\n",
       "\n",
       "    .dataframe tbody tr th {\n",
       "        vertical-align: top;\n",
       "    }\n",
       "\n",
       "    .dataframe thead th {\n",
       "        text-align: right;\n",
       "    }\n",
       "</style>\n",
       "<table border=\"1\" class=\"dataframe\">\n",
       "  <thead>\n",
       "    <tr style=\"text-align: right;\">\n",
       "      <th></th>\n",
       "      <th>price_price_deals</th>\n",
       "      <th>customer_tons_include_price</th>\n",
       "      <th>price_days_included</th>\n",
       "      <th>price_yards</th>\n",
       "      <th>order_date</th>\n",
       "      <th>date_entered</th>\n",
       "      <th>customer_waste</th>\n",
       "      <th>customer_days_include</th>\n",
       "      <th>customer_cost_per_ton</th>\n",
       "      <th>date_modified</th>\n",
       "      <th>...</th>\n",
       "      <th>status</th>\n",
       "      <th>customer_zip</th>\n",
       "      <th>customer_sub_total</th>\n",
       "      <th>customer_delivery_date</th>\n",
       "      <th>customer_container_size</th>\n",
       "      <th>price_haul</th>\n",
       "      <th>customer_state</th>\n",
       "      <th>hauler_id</th>\n",
       "      <th>price_tons_included</th>\n",
       "      <th>id</th>\n",
       "    </tr>\n",
       "  </thead>\n",
       "  <tbody>\n",
       "    <tr>\n",
       "      <th>0</th>\n",
       "      <td>FF</td>\n",
       "      <td>NaN</td>\n",
       "      <td>7.0</td>\n",
       "      <td>20.0</td>\n",
       "      <td>2017-07-19</td>\n",
       "      <td>2017-07-19 11:01:12</td>\n",
       "      <td>Roofing</td>\n",
       "      <td>7.0</td>\n",
       "      <td>75.0</td>\n",
       "      <td>2017-08-18 12:51:22</td>\n",
       "      <td>...</td>\n",
       "      <td>Completed</td>\n",
       "      <td>37042</td>\n",
       "      <td>495.0</td>\n",
       "      <td>2017-07-24 00:00:00</td>\n",
       "      <td>20.0</td>\n",
       "      <td>NaN</td>\n",
       "      <td>TN</td>\n",
       "      <td>ce8f559c-c9be-49aa-ba75-596f74d57d70</td>\n",
       "      <td>NaN</td>\n",
       "      <td>1002c37b-b839-726e-d23b-596f748ba9d0</td>\n",
       "    </tr>\n",
       "    <tr>\n",
       "      <th>1</th>\n",
       "      <td>HT</td>\n",
       "      <td>4.0</td>\n",
       "      <td>3.0</td>\n",
       "      <td>20.0</td>\n",
       "      <td>2017-06-13</td>\n",
       "      <td>2017-06-13 14:18:08</td>\n",
       "      <td>Household</td>\n",
       "      <td>3.0</td>\n",
       "      <td>70.0</td>\n",
       "      <td>2017-06-21 10:30:49</td>\n",
       "      <td>...</td>\n",
       "      <td>Completed</td>\n",
       "      <td>60617</td>\n",
       "      <td>450.0</td>\n",
       "      <td>2017-06-14 00:00:00</td>\n",
       "      <td>20.0</td>\n",
       "      <td>175.00</td>\n",
       "      <td>IL</td>\n",
       "      <td>2f1cb178-2be3-a3f5-77c0-57f80f581de8</td>\n",
       "      <td>NaN</td>\n",
       "      <td>1005a2b0-f9e7-f123-081c-59402cc5462d</td>\n",
       "    </tr>\n",
       "    <tr>\n",
       "      <th>2</th>\n",
       "      <td>HWT</td>\n",
       "      <td>2.0</td>\n",
       "      <td>14.0</td>\n",
       "      <td>20.0</td>\n",
       "      <td>2017-01-03</td>\n",
       "      <td>2017-01-10 16:33:38</td>\n",
       "      <td>CandD</td>\n",
       "      <td>14.0</td>\n",
       "      <td>70.0</td>\n",
       "      <td>2017-03-01 14:39:36</td>\n",
       "      <td>...</td>\n",
       "      <td>Completed</td>\n",
       "      <td>48336</td>\n",
       "      <td>475.0</td>\n",
       "      <td>2017-01-11 00:00:00</td>\n",
       "      <td>20.0</td>\n",
       "      <td>360.00</td>\n",
       "      <td>CO</td>\n",
       "      <td>d6d3b3c8-86af-c61d-e9fa-586bd48a2078</td>\n",
       "      <td>50.0</td>\n",
       "      <td>100652b5-9132-2e4b-f0a6-587553ac4792</td>\n",
       "    </tr>\n",
       "    <tr>\n",
       "      <th>3</th>\n",
       "      <td>HWT</td>\n",
       "      <td>3.0</td>\n",
       "      <td>2.0</td>\n",
       "      <td>30.0</td>\n",
       "      <td>2018-11-08</td>\n",
       "      <td>2018-11-08 15:54:34</td>\n",
       "      <td>CandD</td>\n",
       "      <td>2.0</td>\n",
       "      <td>80.0</td>\n",
       "      <td>2018-11-08 16:56:31</td>\n",
       "      <td>...</td>\n",
       "      <td>Dispatched</td>\n",
       "      <td>32405</td>\n",
       "      <td>650.0</td>\n",
       "      <td>2018-11-09 00:00:00</td>\n",
       "      <td>30.0</td>\n",
       "      <td>560.00</td>\n",
       "      <td>FL</td>\n",
       "      <td>6f1beefb-23b0-2986-84aa-593703912995</td>\n",
       "      <td>3.0</td>\n",
       "      <td>1009b66d-3f6e-d997-addc-5be4a2886bda</td>\n",
       "    </tr>\n",
       "    <tr>\n",
       "      <th>4</th>\n",
       "      <td>HWT</td>\n",
       "      <td>1.0</td>\n",
       "      <td>20.0</td>\n",
       "      <td>30.0</td>\n",
       "      <td>2017-02-22</td>\n",
       "      <td>2017-02-22 08:25:28</td>\n",
       "      <td>Roofing</td>\n",
       "      <td>7.0</td>\n",
       "      <td>75.0</td>\n",
       "      <td>2017-02-24 14:51:26</td>\n",
       "      <td>...</td>\n",
       "      <td>Cancelled</td>\n",
       "      <td>75752</td>\n",
       "      <td>685.0</td>\n",
       "      <td>2017-02-24 12:00:00</td>\n",
       "      <td>30.0</td>\n",
       "      <td>595.38</td>\n",
       "      <td>TX</td>\n",
       "      <td>d4958c9c-ae40-e519-3c98-577c13e75a23</td>\n",
       "      <td>1.0</td>\n",
       "      <td>1009d169-a4d9-b9f1-2558-58ad91790d48</td>\n",
       "    </tr>\n",
       "  </tbody>\n",
       "</table>\n",
       "<p>5 rows × 22 columns</p>\n",
       "</div>"
      ],
      "text/plain": [
       "  price_price_deals  customer_tons_include_price  price_days_included  \\\n",
       "0                FF                          NaN                  7.0   \n",
       "1                HT                          4.0                  3.0   \n",
       "2               HWT                          2.0                 14.0   \n",
       "3               HWT                          3.0                  2.0   \n",
       "4               HWT                          1.0                 20.0   \n",
       "\n",
       "   price_yards order_date        date_entered customer_waste  \\\n",
       "0         20.0 2017-07-19 2017-07-19 11:01:12        Roofing   \n",
       "1         20.0 2017-06-13 2017-06-13 14:18:08      Household   \n",
       "2         20.0 2017-01-03 2017-01-10 16:33:38          CandD   \n",
       "3         30.0 2018-11-08 2018-11-08 15:54:34          CandD   \n",
       "4         30.0 2017-02-22 2017-02-22 08:25:28        Roofing   \n",
       "\n",
       "   customer_days_include  customer_cost_per_ton       date_modified  \\\n",
       "0                    7.0                   75.0 2017-08-18 12:51:22   \n",
       "1                    3.0                   70.0 2017-06-21 10:30:49   \n",
       "2                   14.0                   70.0 2017-03-01 14:39:36   \n",
       "3                    2.0                   80.0 2018-11-08 16:56:31   \n",
       "4                    7.0                   75.0 2017-02-24 14:51:26   \n",
       "\n",
       "                   ...                       status customer_zip  \\\n",
       "0                  ...                    Completed        37042   \n",
       "1                  ...                    Completed        60617   \n",
       "2                  ...                    Completed        48336   \n",
       "3                  ...                   Dispatched        32405   \n",
       "4                  ...                    Cancelled        75752   \n",
       "\n",
       "  customer_sub_total customer_delivery_date  customer_container_size  \\\n",
       "0              495.0    2017-07-24 00:00:00                     20.0   \n",
       "1              450.0    2017-06-14 00:00:00                     20.0   \n",
       "2              475.0    2017-01-11 00:00:00                     20.0   \n",
       "3              650.0    2018-11-09 00:00:00                     30.0   \n",
       "4              685.0    2017-02-24 12:00:00                     30.0   \n",
       "\n",
       "  price_haul  customer_state                             hauler_id  \\\n",
       "0        NaN              TN  ce8f559c-c9be-49aa-ba75-596f74d57d70   \n",
       "1     175.00              IL  2f1cb178-2be3-a3f5-77c0-57f80f581de8   \n",
       "2     360.00              CO  d6d3b3c8-86af-c61d-e9fa-586bd48a2078   \n",
       "3     560.00              FL  6f1beefb-23b0-2986-84aa-593703912995   \n",
       "4     595.38              TX  d4958c9c-ae40-e519-3c98-577c13e75a23   \n",
       "\n",
       "  price_tons_included                                    id  \n",
       "0                 NaN  1002c37b-b839-726e-d23b-596f748ba9d0  \n",
       "1                 NaN  1005a2b0-f9e7-f123-081c-59402cc5462d  \n",
       "2                50.0  100652b5-9132-2e4b-f0a6-587553ac4792  \n",
       "3                 3.0  1009b66d-3f6e-d997-addc-5be4a2886bda  \n",
       "4                 1.0  1009d169-a4d9-b9f1-2558-58ad91790d48  \n",
       "\n",
       "[5 rows x 22 columns]"
      ]
     },
     "execution_count": 4,
     "metadata": {},
     "output_type": "execute_result"
    }
   ],
   "source": [
    "temp_df.head()"
   ]
  },
  {
   "cell_type": "code",
   "execution_count": 10,
   "metadata": {},
   "outputs": [],
   "source": [
    "time_df=temp_df.loc[:, temp_df.columns.str.contains(\"date\")]"
   ]
  },
  {
   "cell_type": "code",
   "execution_count": 12,
   "metadata": {},
   "outputs": [
    {
     "data": {
      "image/png": "[encoded data removed]",
      "text/plain": [
       "<matplotlib.figure.Figure at 0x263da555b70>"
      ]
     },
     "metadata": {},
     "output_type": "display_data"
    }
   ],
   "source": [
    "import matplotlib.pyplot as plt\n",
    "temp_df.boxplot(column=\"customer_sub_total\",by=\"price_price_deals\", figsize=(10,6))\n",
    "plt.show()"
   ]
  },
  {
   "cell_type": "code",
   "execution_count": 24,
   "metadata": {},
   "outputs": [
    {
     "data": {
      "text/plain": [
       "Index(['order_date', 'date_entered', 'date_modified',\n",
       "       'customer_delivery_date'],\n",
       "      dtype='object')"
      ]
     },
     "execution_count": 24,
     "metadata": {},
     "output_type": "execute_result"
    }
   ],
   "source": [
    "time_df.columns"
   ]
  },
  {
   "cell_type": "code",
   "execution_count": 22,
   "metadata": {},
   "outputs": [
    {
     "data": {
      "text/plain": [
       "False    35478\n",
       "True        36\n",
       "Name: date_modified, dtype: int64"
      ]
     },
     "execution_count": 22,
     "metadata": {},
     "output_type": "execute_result"
    }
   ],
   "source": [
    "time_df.date_modified.isnull().value_counts()"
   ]
  },
  {
   "cell_type": "code",
   "execution_count": 149,
   "metadata": {},
   "outputs": [
    {
     "name": "stderr",
     "output_type": "stream",
     "text": [
      "D:\\anacondasetup\\lib\\site-packages\\ipykernel_launcher.py:9: SettingWithCopyWarning: \n",
      "A value is trying to be set on a copy of a slice from a DataFrame.\n",
      "Try using .loc[row_indexer,col_indexer] = value instead\n",
      "\n",
      "See the caveats in the documentation: http://pandas.pydata.org/pandas-docs/stable/indexing.html#indexing-view-versus-copy\n",
      "  if __name__ == '__main__':\n"
     ]
    }
   ],
   "source": [
    "time_df=temp_df.loc[:, temp_df.columns.str.contains(\"date\")]\n",
    "from datetime import datetime\n",
    "\n",
    "rows=['order_date', 'date_entered', 'date_modified',\n",
    "       'customer_delivery_date']\n",
    "\n",
    "for idx,item in enumerate(rows):\n",
    "    for i in range(idx,len(rows)-1):\n",
    "        time_df[(\"({})-({})\".format(item,rows[i+1]))]=((time_df[rows[i+1]]-time_df[item]).dt.total_seconds())/86400#.dt.seconds\n",
    "    "
   ]
  },
  {
   "cell_type": "code",
   "execution_count": 48,
   "metadata": {},
   "outputs": [],
   "source": [
    "#time_df.to_csv(\"time_df.csv\")"
   ]
  },
  {
   "cell_type": "code",
   "execution_count": 95,
   "metadata": {},
   "outputs": [
    {
     "data": {
      "text/plain": [
       "Index(['order_date', 'date_entered', 'date_modified', 'customer_delivery_date',\n",
       "       '(order_date)-(date_entered)', '(order_date)-(date_modified)',\n",
       "       '(order_date)-(customer_delivery_date)',\n",
       "       '(date_entered)-(date_modified)',\n",
       "       '(date_entered)-(customer_delivery_date)',\n",
       "       '(date_modified)-(customer_delivery_date)'],\n",
       "      dtype='object')"
      ]
     },
     "execution_count": 95,
     "metadata": {},
     "output_type": "execute_result"
    }
   ],
   "source": [
    "time_df.columns"
   ]
  },
  {
   "cell_type": "code",
   "execution_count": null,
   "metadata": {},
   "outputs": [],
   "source": []
  },
  {
   "cell_type": "code",
   "execution_count": 152,
   "metadata": {},
   "outputs": [],
   "source": [
    "time_df.to_csv(\"time_df.csv\")"
   ]
  },
  {
   "cell_type": "code",
   "execution_count": 151,
   "metadata": {},
   "outputs": [
    {
     "data": {
      "text/plain": [
       "36"
      ]
     },
     "execution_count": 151,
     "metadata": {},
     "output_type": "execute_result"
    }
   ],
   "source": [
    "time_df[\"date_modified\"].isna().sum()#[time_df[\"date_modified\"].isnull()==True].\n"
   ]
  },
  {
   "cell_type": "code",
   "execution_count": 147,
   "metadata": {},
   "outputs": [
    {
     "data": {
      "text/plain": [
       "3481"
      ]
     },
     "execution_count": 147,
     "metadata": {},
     "output_type": "execute_result"
    }
   ],
   "source": [
    "time_df[\"(date_entered)-(date_modified)\"][time_df[\"(date_entered)-(date_modified)\"]<1].count()"
   ]
  },
  {
   "cell_type": "code",
   "execution_count": 153,
   "metadata": {},
   "outputs": [],
   "source": [
    "#time_df[\"(date_entered)-(date_modified)\"][time_df[\"(date_entered)-(date_modified)\"]<1]=0"
   ]
  },
  {
   "cell_type": "code",
   "execution_count": 111,
   "metadata": {},
   "outputs": [
    {
     "data": {
      "text/plain": [
       "2638282.0"
      ]
     },
     "execution_count": 111,
     "metadata": {},
     "output_type": "execute_result"
    }
   ],
   "source": [
    "time_df.iloc[0,5].total_seconds()"
   ]
  },
  {
   "cell_type": "code",
   "execution_count": 213,
   "metadata": {},
   "outputs": [
    {
     "data": {
      "text/plain": [
       "array(['FF', 'HT', 'HWT', nan], dtype=object)"
      ]
     },
     "execution_count": 213,
     "metadata": {},
     "output_type": "execute_result"
    }
   ],
   "source": [
    "temp_df.price_price_deals.unique()"
   ]
  },
  {
   "cell_type": "code",
   "execution_count": 157,
   "metadata": {},
   "outputs": [
    {
     "data": {
      "text/plain": [
       "Index(['price_price_deals', 'customer_tons_include_price',\n",
       "       'price_days_included', 'price_yards', 'order_date', 'date_entered',\n",
       "       'customer_waste', 'customer_days_include', 'customer_cost_per_ton',\n",
       "       'date_modified', 'customer_cost_per_day', 'customer_city', 'status',\n",
       "       'customer_zip', 'customer_sub_total', 'customer_delivery_date',\n",
       "       'customer_container_size', 'price_haul', 'customer_state', 'hauler_id',\n",
       "       'price_tons_included', 'id'],\n",
       "      dtype='object')"
      ]
     },
     "execution_count": 157,
     "metadata": {},
     "output_type": "execute_result"
    }
   ],
   "source": [
    "temp_df.columns"
   ]
  },
  {
   "cell_type": "code",
   "execution_count": 167,
   "metadata": {},
   "outputs": [
    {
     "data": {
      "text/html": [
       "<div>\n",
       "<style scoped>\n",
       "    .dataframe tbody tr th:only-of-type {\n",
       "        vertical-align: middle;\n",
       "    }\n",
       "\n",
       "    .dataframe tbody tr th {\n",
       "        vertical-align: top;\n",
       "    }\n",
       "\n",
       "    .dataframe thead th {\n",
       "        text-align: right;\n",
       "    }\n",
       "</style>\n",
       "<table border=\"1\" class=\"dataframe\">\n",
       "  <thead>\n",
       "    <tr style=\"text-align: right;\">\n",
       "      <th></th>\n",
       "      <th>customer_tons_include_price</th>\n",
       "      <th>customer_container_size</th>\n",
       "      <th>customer_sub_total</th>\n",
       "      <th>price_haul</th>\n",
       "    </tr>\n",
       "  </thead>\n",
       "  <tbody>\n",
       "    <tr>\n",
       "      <th>1239</th>\n",
       "      <td>1.0</td>\n",
       "      <td>10.0</td>\n",
       "      <td>460.0</td>\n",
       "      <td>360.0</td>\n",
       "    </tr>\n",
       "    <tr>\n",
       "      <th>33081</th>\n",
       "      <td>3.0</td>\n",
       "      <td>20.0</td>\n",
       "      <td>495.0</td>\n",
       "      <td>375.0</td>\n",
       "    </tr>\n",
       "    <tr>\n",
       "      <th>20791</th>\n",
       "      <td>10.0</td>\n",
       "      <td>30.0</td>\n",
       "      <td>495.0</td>\n",
       "      <td>200.0</td>\n",
       "    </tr>\n",
       "    <tr>\n",
       "      <th>443</th>\n",
       "      <td>1.0</td>\n",
       "      <td>10.0</td>\n",
       "      <td>390.0</td>\n",
       "      <td>275.0</td>\n",
       "    </tr>\n",
       "    <tr>\n",
       "      <th>17133</th>\n",
       "      <td>2.0</td>\n",
       "      <td>10.0</td>\n",
       "      <td>420.0</td>\n",
       "      <td>315.0</td>\n",
       "    </tr>\n",
       "    <tr>\n",
       "      <th>22055</th>\n",
       "      <td>3.5</td>\n",
       "      <td>40.0</td>\n",
       "      <td>650.0</td>\n",
       "      <td>550.0</td>\n",
       "    </tr>\n",
       "    <tr>\n",
       "      <th>17087</th>\n",
       "      <td>2.0</td>\n",
       "      <td>20.0</td>\n",
       "      <td>550.0</td>\n",
       "      <td>NaN</td>\n",
       "    </tr>\n",
       "    <tr>\n",
       "      <th>16946</th>\n",
       "      <td>1.0</td>\n",
       "      <td>10.0</td>\n",
       "      <td>815.0</td>\n",
       "      <td>NaN</td>\n",
       "    </tr>\n",
       "    <tr>\n",
       "      <th>12115</th>\n",
       "      <td>1.0</td>\n",
       "      <td>20.0</td>\n",
       "      <td>450.0</td>\n",
       "      <td>375.0</td>\n",
       "    </tr>\n",
       "    <tr>\n",
       "      <th>1842</th>\n",
       "      <td>1.0</td>\n",
       "      <td>20.0</td>\n",
       "      <td>590.0</td>\n",
       "      <td>505.0</td>\n",
       "    </tr>\n",
       "  </tbody>\n",
       "</table>\n",
       "</div>"
      ],
      "text/plain": [
       "       customer_tons_include_price  customer_container_size  \\\n",
       "1239                           1.0                     10.0   \n",
       "33081                          3.0                     20.0   \n",
       "20791                         10.0                     30.0   \n",
       "443                            1.0                     10.0   \n",
       "17133                          2.0                     10.0   \n",
       "22055                          3.5                     40.0   \n",
       "17087                          2.0                     20.0   \n",
       "16946                          1.0                     10.0   \n",
       "12115                          1.0                     20.0   \n",
       "1842                           1.0                     20.0   \n",
       "\n",
       "       customer_sub_total  price_haul  \n",
       "1239                460.0       360.0  \n",
       "33081               495.0       375.0  \n",
       "20791               495.0       200.0  \n",
       "443                 390.0       275.0  \n",
       "17133               420.0       315.0  \n",
       "22055               650.0       550.0  \n",
       "17087               550.0         NaN  \n",
       "16946               815.0         NaN  \n",
       "12115               450.0       375.0  \n",
       "1842                590.0       505.0  "
      ]
     },
     "execution_count": 167,
     "metadata": {},
     "output_type": "execute_result"
    }
   ],
   "source": [
    "temp_df.loc[:,['customer_tons_include_price','customer_container_size','customer_sub_total','price_haul']].sample(10)"
   ]
  },
  {
   "cell_type": "code",
   "execution_count": 168,
   "metadata": {},
   "outputs": [],
   "source": [
    "my_df=pd.DataFrame()"
   ]
  },
  {
   "cell_type": "code",
   "execution_count": 169,
   "metadata": {},
   "outputs": [],
   "source": [
    "my_df=temp_df.loc[:,['customer_tons_include_price','customer_container_size','customer_sub_total','price_haul']]"
   ]
  },
  {
   "cell_type": "code",
   "execution_count": 201,
   "metadata": {},
   "outputs": [],
   "source": [
    "my_df[\"(profit)\"]=(my_df[\"customer_sub_total\"]-(my_df[\"price_haul\"]))"
   ]
  },
  {
   "cell_type": "code",
   "execution_count": 221,
   "metadata": {},
   "outputs": [],
   "source": [
    "my_df[\"price_days_included\"]=temp_df[\"price_days_included\"]"
   ]
  },
  {
   "cell_type": "code",
   "execution_count": 298,
   "metadata": {},
   "outputs": [],
   "source": [
    "my_df[\"(over_tonnage)\"]=(my_df.customer_container_size/10- my_df.customer_tons_include_price )*-1"
   ]
  },
  {
   "cell_type": "code",
   "execution_count": 294,
   "metadata": {},
   "outputs": [],
   "source": [
    "plt_df=my_df[my_df[\"price_price_deals\"]==\"HWT\"].sort_values(by=\"(profit)\",ascending=True)"
   ]
  },
  {
   "cell_type": "code",
   "execution_count": 309,
   "metadata": {},
   "outputs": [
    {
     "data": {
      "text/html": [
       "<div>\n",
       "<style scoped>\n",
       "    .dataframe tbody tr th:only-of-type {\n",
       "        vertical-align: middle;\n",
       "    }\n",
       "\n",
       "    .dataframe tbody tr th {\n",
       "        vertical-align: top;\n",
       "    }\n",
       "\n",
       "    .dataframe thead th {\n",
       "        text-align: right;\n",
       "    }\n",
       "</style>\n",
       "<table border=\"1\" class=\"dataframe\">\n",
       "  <thead>\n",
       "    <tr style=\"text-align: right;\">\n",
       "      <th></th>\n",
       "      <th>customer_tons_include_price</th>\n",
       "      <th>customer_container_size</th>\n",
       "      <th>customer_sub_total</th>\n",
       "      <th>price_haul</th>\n",
       "      <th>price_yards</th>\n",
       "      <th>(profit)</th>\n",
       "      <th>(over_tonnage)</th>\n",
       "      <th>price_days_included</th>\n",
       "    </tr>\n",
       "  </thead>\n",
       "  <tbody>\n",
       "    <tr>\n",
       "      <th>count</th>\n",
       "      <td>35314.000000</td>\n",
       "      <td>35514.000000</td>\n",
       "      <td>35462.000000</td>\n",
       "      <td>30884.000000</td>\n",
       "      <td>35499.000000</td>\n",
       "      <td>30855.000000</td>\n",
       "      <td>35314.000000</td>\n",
       "      <td>29042.000000</td>\n",
       "    </tr>\n",
       "    <tr>\n",
       "      <th>mean</th>\n",
       "      <td>2.975180</td>\n",
       "      <td>21.927099</td>\n",
       "      <td>516.603868</td>\n",
       "      <td>300.779231</td>\n",
       "      <td>21.751627</td>\n",
       "      <td>213.031985</td>\n",
       "      <td>0.782885</td>\n",
       "      <td>12.337144</td>\n",
       "    </tr>\n",
       "    <tr>\n",
       "      <th>std</th>\n",
       "      <td>2.157293</td>\n",
       "      <td>9.016635</td>\n",
       "      <td>126.725595</td>\n",
       "      <td>135.846271</td>\n",
       "      <td>9.089044</td>\n",
       "      <td>122.237620</td>\n",
       "      <td>2.334764</td>\n",
       "      <td>7.971451</td>\n",
       "    </tr>\n",
       "    <tr>\n",
       "      <th>min</th>\n",
       "      <td>0.250000</td>\n",
       "      <td>2.000000</td>\n",
       "      <td>1.000000</td>\n",
       "      <td>1.000000</td>\n",
       "      <td>0.000000</td>\n",
       "      <td>-190.000000</td>\n",
       "      <td>-3.700000</td>\n",
       "      <td>0.160000</td>\n",
       "    </tr>\n",
       "    <tr>\n",
       "      <th>25%</th>\n",
       "      <td>2.000000</td>\n",
       "      <td>15.000000</td>\n",
       "      <td>425.000000</td>\n",
       "      <td>195.000000</td>\n",
       "      <td>15.000000</td>\n",
       "      <td>100.000000</td>\n",
       "      <td>-1.000000</td>\n",
       "      <td>7.000000</td>\n",
       "    </tr>\n",
       "    <tr>\n",
       "      <th>50%</th>\n",
       "      <td>2.500000</td>\n",
       "      <td>20.000000</td>\n",
       "      <td>495.000000</td>\n",
       "      <td>265.000000</td>\n",
       "      <td>20.000000</td>\n",
       "      <td>190.000000</td>\n",
       "      <td>-0.000000</td>\n",
       "      <td>10.000000</td>\n",
       "    </tr>\n",
       "    <tr>\n",
       "      <th>75%</th>\n",
       "      <td>3.000000</td>\n",
       "      <td>30.000000</td>\n",
       "      <td>595.000000</td>\n",
       "      <td>385.000000</td>\n",
       "      <td>30.000000</td>\n",
       "      <td>295.000000</td>\n",
       "      <td>1.500000</td>\n",
       "      <td>14.000000</td>\n",
       "    </tr>\n",
       "    <tr>\n",
       "      <th>max</th>\n",
       "      <td>15.000000</td>\n",
       "      <td>40.000000</td>\n",
       "      <td>1150.000000</td>\n",
       "      <td>941.700000</td>\n",
       "      <td>40.000000</td>\n",
       "      <td>916.410000</td>\n",
       "      <td>14.200000</td>\n",
       "      <td>60.000000</td>\n",
       "    </tr>\n",
       "  </tbody>\n",
       "</table>\n",
       "</div>"
      ],
      "text/plain": [
       "       customer_tons_include_price  customer_container_size  \\\n",
       "count                 35314.000000             35514.000000   \n",
       "mean                      2.975180                21.927099   \n",
       "std                       2.157293                 9.016635   \n",
       "min                       0.250000                 2.000000   \n",
       "25%                       2.000000                15.000000   \n",
       "50%                       2.500000                20.000000   \n",
       "75%                       3.000000                30.000000   \n",
       "max                      15.000000                40.000000   \n",
       "\n",
       "       customer_sub_total    price_haul   price_yards      (profit)  \\\n",
       "count        35462.000000  30884.000000  35499.000000  30855.000000   \n",
       "mean           516.603868    300.779231     21.751627    213.031985   \n",
       "std            126.725595    135.846271      9.089044    122.237620   \n",
       "min              1.000000      1.000000      0.000000   -190.000000   \n",
       "25%            425.000000    195.000000     15.000000    100.000000   \n",
       "50%            495.000000    265.000000     20.000000    190.000000   \n",
       "75%            595.000000    385.000000     30.000000    295.000000   \n",
       "max           1150.000000    941.700000     40.000000    916.410000   \n",
       "\n",
       "       (over_tonnage)  price_days_included  \n",
       "count    35314.000000         29042.000000  \n",
       "mean         0.782885            12.337144  \n",
       "std          2.334764             7.971451  \n",
       "min         -3.700000             0.160000  \n",
       "25%         -1.000000             7.000000  \n",
       "50%         -0.000000            10.000000  \n",
       "75%          1.500000            14.000000  \n",
       "max         14.200000            60.000000  "
      ]
     },
     "execution_count": 309,
     "metadata": {},
     "output_type": "execute_result"
    }
   ],
   "source": [
    "my_df.describe()"
   ]
  },
  {
   "cell_type": "code",
   "execution_count": 285,
   "metadata": {},
   "outputs": [
    {
     "data": {
      "image/png": "[encoded data removed]",
      "text/plain": [
       "<matplotlib.figure.Figure at 0x286d560f4e0>"
      ]
     },
     "metadata": {},
     "output_type": "display_data"
    }
   ],
   "source": [
    "import matplotlib.pyplot as plt\n",
    "\n",
    "plt_df[][:100].plot(x=\"customer_tons_include_price\",y=\"(profit)\",kind=\"bar\",figsize=(36,12)  )\n",
    "plt.xticks(range(1, 10))\n",
    "plt.show()"
   ]
  },
  {
   "cell_type": "code",
   "execution_count": null,
   "metadata": {},
   "outputs": [],
   "source": []
  }
 ],
 "metadata": {
  "kernelspec": {
   "display_name": "Python 3",
   "language": "python",
   "name": "python3"
  },
  "language_info": {
   "codemirror_mode": {
    "name": "ipython",
    "version": 3
   },
   "file_extension": ".py",
   "mimetype": "text/x-python",
   "name": "python",
   "nbconvert_exporter": "python",
   "pygments_lexer": "ipython3",
   "version": "3.6.4"
  }
 },
 "nbformat": 4,
 "nbformat_minor": 2
}
