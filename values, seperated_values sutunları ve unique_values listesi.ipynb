{
 "cells": [
  {
   "cell_type": "code",
   "execution_count": 27,
   "metadata": {},
   "outputs": [],
   "source": [
    "import pandas as pd\n",
    "import re\n",
    "pd.options.display.max_colwidth = 100"
   ]
  },
  {
   "cell_type": "code",
   "execution_count": 28,
   "metadata": {},
   "outputs": [],
   "source": [
    "df=pd.read_excel(\"mapped_dataset.xlsx\")"
   ]
  },
  {
   "cell_type": "code",
   "execution_count": null,
   "metadata": {},
   "outputs": [],
   "source": [
    "# yeni sutunlar için toplam 3 fonksiyon yazıldı"
   ]
  },
  {
   "cell_type": "code",
   "execution_count": 31,
   "metadata": {},
   "outputs": [],
   "source": [
    "def amount_unit(element): \n",
    "    \n",
    "    try:\n",
    "        \n",
    "        element=element.lower()\n",
    "        \n",
    "    except:\n",
    "        \n",
    "        element=element\n",
    "    \n",
    "    try:\n",
    "                \n",
    "        if \", \" in element:\n",
    "            \n",
    "            k=re.findall(r\"\\w?\\d+\\,?\\w?\\d*\", item)\n",
    "            \n",
    "            if not bool(k):\n",
    "                \n",
    "                element1= element.split(\",\")[1]\n",
    "                \n",
    "            else:\n",
    "                element1= element\n",
    "        else:\n",
    "            element1 = element\n",
    "            \n",
    "    except:\n",
    "        \n",
    "        element1 = element\n",
    "    \n",
    "    try:\n",
    "        \n",
    "        elist = element1.split()\n",
    "        \n",
    "        new_list=[]\n",
    "    \n",
    "        for i,item in enumerate(elist):\n",
    "            \n",
    "            z=re.findall(r\"\\w?\\d+\\,?\\w?\\d*\", item) \n",
    "            \n",
    "            if bool(z) and item not in new_list:\n",
    "                \n",
    "                new_list.append(item)\n",
    "                \n",
    "                try:\n",
    "                    \n",
    "                    if len(elist[i+1]) <= 7 :\n",
    "                    \n",
    "                        new_list.append(elist[i+1])\n",
    "                        \n",
    "                    if elist[i+2].lower() == \"x\":\n",
    "                        \n",
    "                        new_list.append(\"x\")\n",
    "                        \n",
    "                except:\n",
    "                    \n",
    "                    pass\n",
    "                        \n",
    "        return new_list\n",
    "     \n",
    "    except:\n",
    "        \n",
    "        return \"NaN\"\n",
    "    \n",
    "    \n",
    "def seperate(alist):   \n",
    "    \n",
    "    new_cell2=[]\n",
    "    \n",
    "    for item in alist:\n",
    "\n",
    "        ss = re.split(r\"(\\d+\\/\\d+\\,?\\d+)?([a-zA-Z]+)\",item)\n",
    "        \n",
    "        new_cell2.append(ss)\n",
    "                   \n",
    "    return [x for ite in new_cell2 for x in ite if x != \"\" and x != \" \" and x !=None ] \n",
    "\n",
    "\n",
    "def tidy_cell(alist):\n",
    "    \n",
    "    new_cell=[]\n",
    "\n",
    "    for item in alist:\n",
    "            \n",
    "        new_cell.append((item).replace(\"(\",\" \").replace(\")\",\" \").replace(\"+\",\" \").replace(\" +\",\" \").replace(\"+ \",\" \").replace(\"-\",\" \").\n",
    "                        replace(\":\",\"\").replace(\"=\",\" \").replace(\" =\",\" \").replace(\"= \",\" \"))\n",
    "                \n",
    "    return new_cell\n",
    "\n"
   ]
  },
  {
   "cell_type": "code",
   "execution_count": 32,
   "metadata": {},
   "outputs": [],
   "source": [
    "# miktar ve ilgili unitlerin (product_name) sutunundan alınarak (values) sutununun oluşturulması----> (amount_unit) fonksiyonu \n",
    "\n",
    "df[\"values\"]=df.product_name.apply(amount_unit)"
   ]
  },
  {
   "cell_type": "code",
   "execution_count": 33,
   "metadata": {},
   "outputs": [],
   "source": [
    "# (seperated_values) sutunu---> üstteki fonksiyonla oluşturulan (values) sutunundaki bitişik kalan elemanları da alt elemanlarına ayırmak \n",
    "# ve aradaki gereksiz işaretleri \"+,-,/\" temizlemek için \t[200ml+]--->[200, ml]\n",
    "\n",
    "df[\"seperated_values\"]=df[\"values\"].apply(seperate).apply(tidy_cell)"
   ]
  },
  {
   "cell_type": "code",
   "execution_count": 16,
   "metadata": {},
   "outputs": [],
   "source": [
    "#df.sample(10)"
   ]
  },
  {
   "cell_type": "code",
   "execution_count": 34,
   "metadata": {},
   "outputs": [],
   "source": [
    "# seperated_values sutunundan unique değerlerin çekilmesi \n",
    "\n",
    "\n",
    "from numpy import array\n",
    "import collections, numpy\n",
    "\n",
    "def unique_values_dict(element):\n",
    "\n",
    "    unique_list = [x for item in element for x in item]\n",
    "\n",
    "    unique_list_array = numpy.array(unique_list )\n",
    "\n",
    "    unique_list_dict=collections.Counter(unique_list_array)\n",
    "    \n",
    "    return unique_list_dict\n",
    "\n"
   ]
  },
  {
   "cell_type": "code",
   "execution_count": 35,
   "metadata": {},
   "outputs": [
    {
     "data": {
      "text/plain": [
       "6472"
      ]
     },
     "execution_count": 35,
     "metadata": {},
     "output_type": "execute_result"
    }
   ],
   "source": [
    "len(unique_values_dict(df[\"seperated_values\"]))"
   ]
  },
  {
   "cell_type": "code",
   "execution_count": 19,
   "metadata": {},
   "outputs": [],
   "source": [
    "#unique_list_sorted = sorted([(v,k) for (k,v) in new_dict.items()])"
   ]
  },
  {
   "cell_type": "code",
   "execution_count": 38,
   "metadata": {},
   "outputs": [
    {
     "data": {
      "text/html": [
       "<div>\n",
       "<style scoped>\n",
       "    .dataframe tbody tr th:only-of-type {\n",
       "        vertical-align: middle;\n",
       "    }\n",
       "\n",
       "    .dataframe tbody tr th {\n",
       "        vertical-align: top;\n",
       "    }\n",
       "\n",
       "    .dataframe thead th {\n",
       "        text-align: right;\n",
       "    }\n",
       "</style>\n",
       "<table border=\"1\" class=\"dataframe\">\n",
       "  <thead>\n",
       "    <tr style=\"text-align: right;\">\n",
       "      <th></th>\n",
       "      <th>product_name</th>\n",
       "      <th>values</th>\n",
       "      <th>seperated_values</th>\n",
       "    </tr>\n",
       "  </thead>\n",
       "  <tbody>\n",
       "    <tr>\n",
       "      <th>493708</th>\n",
       "      <td>Q-HEALTH SUPORTE MEMB.SUPERIOR SIMPLES</td>\n",
       "      <td>[]</td>\n",
       "      <td>[]</td>\n",
       "    </tr>\n",
       "    <tr>\n",
       "      <th>501477</th>\n",
       "      <td>Ducray Keracnyl Cr Pp 30 Ml</td>\n",
       "      <td>[30, ml]</td>\n",
       "      <td>[30, ml]</td>\n",
       "    </tr>\n",
       "    <tr>\n",
       "      <th>436</th>\n",
       "      <td>§ CoAprovel, 12,5/300 mg laminax</td>\n",
       "      <td>[12,5/300, mg]</td>\n",
       "      <td>[12,5/300, mg]</td>\n",
       "    </tr>\n",
       "    <tr>\n",
       "      <th>4456</th>\n",
       "      <td>NIVEA LOÇAO CORPORAL NOURISHING PELES MUITO SECAS 250ML</td>\n",
       "      <td>[250ml]</td>\n",
       "      <td>[250, ml]</td>\n",
       "    </tr>\n",
       "    <tr>\n",
       "      <th>493307</th>\n",
       "      <td>STREPSILS MENTA FRESCA/16 PAST</td>\n",
       "      <td>[fresca/16, past]</td>\n",
       "      <td>[fresca, /16, past]</td>\n",
       "    </tr>\n",
       "  </tbody>\n",
       "</table>\n",
       "</div>"
      ],
      "text/plain": [
       "                                                   product_name  \\\n",
       "493708                   Q-HEALTH SUPORTE MEMB.SUPERIOR SIMPLES   \n",
       "501477                              Ducray Keracnyl Cr Pp 30 Ml   \n",
       "436                            § CoAprovel, 12,5/300 mg laminax   \n",
       "4456    NIVEA LOÇAO CORPORAL NOURISHING PELES MUITO SECAS 250ML   \n",
       "493307                           STREPSILS MENTA FRESCA/16 PAST   \n",
       "\n",
       "                   values     seperated_values  \n",
       "493708                 []                   []  \n",
       "501477           [30, ml]             [30, ml]  \n",
       "436        [12,5/300, mg]       [12,5/300, mg]  \n",
       "4456              [250ml]            [250, ml]  \n",
       "493307  [fresca/16, past]  [fresca, /16, past]  "
      ]
     },
     "execution_count": 38,
     "metadata": {},
     "output_type": "execute_result"
    }
   ],
   "source": [
    "df[[\"product_name\",\"values\",\"seperated_values\"]].sample(5)"
   ]
  },
  {
   "cell_type": "code",
   "execution_count": null,
   "metadata": {},
   "outputs": [],
   "source": []
  }
 ],
 "metadata": {
  "kernelspec": {
   "display_name": "Python 3",
   "language": "python",
   "name": "python3"
  },
  "language_info": {
   "codemirror_mode": {
    "name": "ipython",
    "version": 3
   },
   "file_extension": ".py",
   "mimetype": "text/x-python",
   "name": "python",
   "nbconvert_exporter": "python",
   "pygments_lexer": "ipython3",
   "version": "3.6.4"
  }
 },
 "nbformat": 4,
 "nbformat_minor": 2
}
