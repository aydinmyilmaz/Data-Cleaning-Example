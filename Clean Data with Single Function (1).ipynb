{
 "cells": [
  {
   "cell_type": "code",
   "execution_count": 131,
   "metadata": {},
   "outputs": [],
   "source": [
    "import pandas as pd\n",
    "import re\n",
    "import numpy as np\n",
    "pd.options.display.max_colwidth = 100"
   ]
  },
  {
   "cell_type": "code",
   "execution_count": 142,
   "metadata": {},
   "outputs": [],
   "source": [
    "# 1. Step\n",
    "\n",
    "def num_uniuni_1 (element):\n",
    "    \n",
    "    try:   \n",
    "        t = re.findall(r\"(\\d+)\\ ([a-z-A-Z]+\\/[a-z-A-Z]+)\", element) # pattern for; \"100 Ui/Ml\" to ----> 100 Ui/Ml----> 100 ml\n",
    "\n",
    "        try:                      \n",
    "            for item in t[0][1].split(\"/\"):\n",
    "\n",
    "                if item.lower()==\"ml\":\n",
    "                    \n",
    "                    element=element.replace(t[0][1],\"ml\")\n",
    "\n",
    "                elif item==\"G\" or item==\"M\":\n",
    "                    \n",
    "                    element=element.replace(t[0][1],\"mg\")\n",
    "        except:\n",
    "        \n",
    "            pass\n",
    "    except:\n",
    "        \n",
    "        pass\n",
    "    \n",
    "    return element"
   ]
  },
  {
   "cell_type": "code",
   "execution_count": 143,
   "metadata": {},
   "outputs": [
    {
     "data": {
      "text/plain": [
       "'100 ml XYZ 80Ml'"
      ]
     },
     "execution_count": 143,
     "metadata": {},
     "output_type": "execute_result"
    }
   ],
   "source": [
    "# function test\n",
    "num_uniuni_1 (\"100 Ui/Ml XYZ 80Ml\")"
   ]
  },
  {
   "cell_type": "code",
   "execution_count": 62,
   "metadata": {},
   "outputs": [],
   "source": [
    "# 2. Step\n",
    "\n",
    "def numuni_numuni_2(element):\n",
    "    \n",
    "    try:\n",
    "        \n",
    "        unit_list=[\"ML\",\"Ml\",\"mL\",\"ml\",\"MG\",\"Mg\",\"mG\",\"mg\",\"CM\",\"Cm\",\"cM\",\"cm\",\"M\",\"Cps\",\"L\",\"G\",\"Kg\",\"KG\",\"kg\",\"G\",\"GR\",\"Gr\"]\n",
    "    \n",
    "        list_element1= element.split(\" \")\n",
    "    \n",
    "        for idx, item in enumerate(list_element1):\n",
    "        \n",
    "            z = re.match(r\"([\\d])+[a-zA-z]\", item) # Pattern for; from ----> #300Ml/5ML  100Ml' to-----> [('300', 'Ml'), ('5', 'ML'), ('100', 'Ml')]\n",
    "        \n",
    "            if bool(z):\n",
    "                          \n",
    "                    zz=re.findall(r\"(\\d+)+([a-zA-Z]+)\",item) # 300Ml/5ML  100Ml'-----> [('300', 'Ml'), ('5', 'ML'), ('100', 'Ml')]\n",
    "                \n",
    "                    del list_element1[idx]\n",
    "                 \n",
    "                    sep_elements = \" \".join([element for tupl in zz for element in tupl])\n",
    "                \n",
    "                    list_element1.insert(idx,sep_elements.lower())   \n",
    "                    \n",
    "        element = \" \".join(list_element1)\n",
    "        \n",
    "        return (element)    \n",
    "    \n",
    "    except:\n",
    "        \n",
    "        pass\n",
    "    \n",
    "        "
   ]
  },
  {
   "cell_type": "code",
   "execution_count": 81,
   "metadata": {},
   "outputs": [
    {
     "data": {
      "text/plain": [
       "'A-Derma Dermalib Cr 50 mg 30 ml Abcd 50 ml'"
      ]
     },
     "execution_count": 81,
     "metadata": {},
     "output_type": "execute_result"
    }
   ],
   "source": [
    "# function test\n",
    "numuni_numuni_2(\"A-Derma Dermalib Cr 50Mg/30Ml Abcd 50ML\")"
   ]
  },
  {
   "cell_type": "code",
   "execution_count": 64,
   "metadata": {},
   "outputs": [],
   "source": [
    " # 3.Step\n",
    "    \n",
    "def num_uni_3(element):\n",
    "    \n",
    "    try:\n",
    "        \n",
    "        unit_list=[\"ML\",\"Ml\",\"mL\",\"ml\",\"MG\",\"Mg\",\"mG\",\"mg\",\"CM\",\"Cm\",\"cM\",\"cm\",\"M\",\"Cps\",\"L\",\"G\",\"Kg\",\"KG\",\"kg\",\"G\",\"GR\",\"Gr\",\"Mcg\", \"MCG\"]\n",
    "        \n",
    "        list_element2= element.split(\" \")\n",
    "    \n",
    "        # pattern for; from ---> 300 ML to ----> 300 ML-----> 300 ml\n",
    "        # (previous pattern (to keep just in case) (r\"(\\d+)\\ ([A-Z]+[a-z-A-Z])\" ) \n",
    "        \n",
    "        t = re.findall(r\"(\\d+)\\ (\\w+)\", element)  \n",
    "        \n",
    "        for item in t:\n",
    "        \n",
    "            try:\n",
    "            \n",
    "                if item[1] in unit_list:\n",
    "                \n",
    "                    idx = list_element2.index(item[1])\n",
    "                \n",
    "                    del list_element2[idx]\n",
    "                \n",
    "                    list_element2.insert(idx,item[1].lower()) \n",
    "                \n",
    "            except:\n",
    "            \n",
    "                pass  \n",
    "            \n",
    "        element = \" \".join(list_element2) \n",
    "        \n",
    "        return (element)\n",
    "    \n",
    "    except:\n",
    "        \n",
    "        pass\n",
    "    \n",
    "             \n"
   ]
  },
  {
   "cell_type": "code",
   "execution_count": 65,
   "metadata": {},
   "outputs": [
    {
     "data": {
      "text/plain": [
       "'Acarbose Bluepharma Mg, 100 ml X 50 Comp'"
      ]
     },
     "execution_count": 65,
     "metadata": {},
     "output_type": "execute_result"
    }
   ],
   "source": [
    "# function test\n",
    "num_uni_3(\"Acarbose Bluepharma Mg, 100 Ml X 50 Comp\")"
   ]
  },
  {
   "cell_type": "code",
   "execution_count": 66,
   "metadata": {},
   "outputs": [],
   "source": [
    "# 4.step \n",
    "\n",
    "def numnum_uni_4 (element):\n",
    "    try:\n",
    "        list_element= element.split(\" \")\n",
    "    \n",
    "        t = re.findall(r\"(\\d+\\/\\d+)+([a-zA-Z]+)\", element) # Pattern for; from ---> 50/150MG to ---> 50/150 mg\n",
    "    \n",
    "        try:\n",
    "  \n",
    "            for item in list_element:\n",
    "        \n",
    "                z = re.match(r\"(\\d+\\/\\d+)+([a-zA-Z]+)\", item)\n",
    "            \n",
    "                if bool(z):\n",
    "                \n",
    "                    new_item = \" \".join([x for tupl in t for x in tupl])\n",
    "                \n",
    "                    element = element.replace(item, new_item.lower() )\n",
    "\n",
    "        except:\n",
    "        \n",
    "            pass\n",
    "        \n",
    "    except:\n",
    "        \n",
    "        pass\n",
    "    \n",
    "    return element"
   ]
  },
  {
   "cell_type": "code",
   "execution_count": 67,
   "metadata": {},
   "outputs": [
    {
     "data": {
      "text/plain": [
       "'50/150 mg'"
      ]
     },
     "execution_count": 67,
     "metadata": {},
     "output_type": "execute_result"
    }
   ],
   "source": [
    "# function test\n",
    "numnum_uni_4 (\"50/150MG\")"
   ]
  },
  {
   "cell_type": "code",
   "execution_count": 69,
   "metadata": {},
   "outputs": [],
   "source": [
    "# gathering all functions in a single function \n",
    "def allfunc(element):\n",
    "    \n",
    "    e1 = num_uniuni_1 (element)\n",
    "    e2 = numuni_numuni_2(e1)\n",
    "    e3 = num_uni_3(e2)\n",
    "    e4 = numnum_uni_4 (e3)\n",
    "    \n",
    "    return e4"
   ]
  },
  {
   "cell_type": "code",
   "execution_count": 74,
   "metadata": {},
   "outputs": [
    {
     "data": {
      "text/plain": [
       "'Lauroderme Fraldas Tam 4 9-15 kg X 50 Un'"
      ]
     },
     "execution_count": 74,
     "metadata": {},
     "output_type": "execute_result"
    }
   ],
   "source": [
    "# function test\n",
    "allfunc(\"Lauroderme Fraldas Tam 4 9-15 Kg X 50 Un\")"
   ]
  },
  {
   "cell_type": "code",
   "execution_count": 134,
   "metadata": {},
   "outputs": [],
   "source": [
    "df=pd.read_excel(\"mapped_dataset.xlsx\")"
   ]
  },
  {
   "cell_type": "code",
   "execution_count": 135,
   "metadata": {},
   "outputs": [],
   "source": [
    "df[\"newly_cleaned_product_name\"] = df[\"clean_product_name\"].apply(allfunc)"
   ]
  },
  {
   "cell_type": "code",
   "execution_count": 136,
   "metadata": {},
   "outputs": [
    {
     "data": {
      "text/plain": [
       "32913"
      ]
     },
     "execution_count": 136,
     "metadata": {},
     "output_type": "execute_result"
    }
   ],
   "source": [
    "df[\"newly_cleaned_product_name\"].nunique()"
   ]
  },
  {
   "cell_type": "code",
   "execution_count": 137,
   "metadata": {},
   "outputs": [
    {
     "data": {
      "text/html": [
       "<div>\n",
       "<style scoped>\n",
       "    .dataframe tbody tr th:only-of-type {\n",
       "        vertical-align: middle;\n",
       "    }\n",
       "\n",
       "    .dataframe tbody tr th {\n",
       "        vertical-align: top;\n",
       "    }\n",
       "\n",
       "    .dataframe thead th {\n",
       "        text-align: right;\n",
       "    }\n",
       "</style>\n",
       "<table border=\"1\" class=\"dataframe\">\n",
       "  <thead>\n",
       "    <tr style=\"text-align: right;\">\n",
       "      <th></th>\n",
       "      <th>file_name</th>\n",
       "      <th>sheet_name</th>\n",
       "      <th>storesku</th>\n",
       "      <th>product_name</th>\n",
       "      <th>store_id</th>\n",
       "      <th>clean_name_list</th>\n",
       "      <th>clean_product_name</th>\n",
       "      <th>appy_id</th>\n",
       "      <th>newly_cleaned_product_name</th>\n",
       "    </tr>\n",
       "  </thead>\n",
       "  <tbody>\n",
       "    <tr>\n",
       "      <th>487822</th>\n",
       "      <td>ms_maculusso_11011</td>\n",
       "      <td>Maculusso</td>\n",
       "      <td>8.003671e+12</td>\n",
       "      <td>CHICCO PROTECTOR DE MAMILO SILICONE 2 PCS  0 M+</td>\n",
       "      <td>2045</td>\n",
       "      <td>[]</td>\n",
       "      <td>Chicco Protector De Mamilo Silicone 2 Pcs  0 M+</td>\n",
       "      <td>[]</td>\n",
       "      <td>Chicco Protector De Mamilo Silicone 2 Pcs  0 M+</td>\n",
       "    </tr>\n",
       "    <tr>\n",
       "      <th>209075</th>\n",
       "      <td>kifarmacias_7pharm_110119</td>\n",
       "      <td>Lista KIL</td>\n",
       "      <td>8.766493e+06</td>\n",
       "      <td>Fluocaril Bi-Fluoré 250, 2,5 mg/g x 125 pasta dent</td>\n",
       "      <td>2606</td>\n",
       "      <td>['Fluocaril Bi-Fluore 250']</td>\n",
       "      <td>Fluocaril Bi-Fluore 250, 2,5 Mg/G X 125 Pasta Dent</td>\n",
       "      <td>[2932]</td>\n",
       "      <td>Fluocaril Bi-Fluore 250, 2,5 mg X 125 Pasta Dent</td>\n",
       "    </tr>\n",
       "    <tr>\n",
       "      <th>164</th>\n",
       "      <td>fmarginal_15011</td>\n",
       "      <td>Sheet1</td>\n",
       "      <td>7.747683e+06</td>\n",
       "      <td>Azul Metileno 1% Velvet Galenicos 30ml</td>\n",
       "      <td>2824</td>\n",
       "      <td>['Velvet Azul Metileno 1%']</td>\n",
       "      <td>Azul Metileno 1% Velvet Galenicos 30Ml</td>\n",
       "      <td>[404]</td>\n",
       "      <td>Azul Metileno 1% Velvet Galenicos 30 ml</td>\n",
       "    </tr>\n",
       "    <tr>\n",
       "      <th>513872</th>\n",
       "      <td>kiluba_110119</td>\n",
       "      <td>Kiluba</td>\n",
       "      <td>8.144816e+06</td>\n",
       "      <td>Vibrocil, 0,25/2,5 mg/mL x 15 sol nasal conta-gotas</td>\n",
       "      <td>2128</td>\n",
       "      <td>['Vibrocil']</td>\n",
       "      <td>Vibrocil, 0,25/2,5 Mg/Ml X 15 Sol Nasal Conta-Gotas</td>\n",
       "      <td>[4519, 3195]</td>\n",
       "      <td>Vibrocil, 0,25/2,5 ml X 15 Sol Nasal Conta-Gotas</td>\n",
       "    </tr>\n",
       "    <tr>\n",
       "      <th>517686</th>\n",
       "      <td>ms_hanga_11011</td>\n",
       "      <td>Hanga</td>\n",
       "      <td>6.939983e+06</td>\n",
       "      <td>A-DERMA PHYS-AC GEL PURIFICANTE 200ML</td>\n",
       "      <td>3062</td>\n",
       "      <td>['A-Derma Phys-Ac Gel Espuma Purificante']</td>\n",
       "      <td>A-Derma Phys-Ac Gel Purificante 200Ml</td>\n",
       "      <td>[1293]</td>\n",
       "      <td>A-Derma Phys-Ac Gel Purificante 200 ml</td>\n",
       "    </tr>\n",
       "  </tbody>\n",
       "</table>\n",
       "</div>"
      ],
      "text/plain": [
       "                        file_name sheet_name      storesku  \\\n",
       "487822         ms_maculusso_11011  Maculusso  8.003671e+12   \n",
       "209075  kifarmacias_7pharm_110119  Lista KIL  8.766493e+06   \n",
       "164               fmarginal_15011     Sheet1  7.747683e+06   \n",
       "513872              kiluba_110119     Kiluba  8.144816e+06   \n",
       "517686             ms_hanga_11011      Hanga  6.939983e+06   \n",
       "\n",
       "                                               product_name  store_id  \\\n",
       "487822      CHICCO PROTECTOR DE MAMILO SILICONE 2 PCS  0 M+      2045   \n",
       "209075   Fluocaril Bi-Fluoré 250, 2,5 mg/g x 125 pasta dent      2606   \n",
       "164                  Azul Metileno 1% Velvet Galenicos 30ml      2824   \n",
       "513872  Vibrocil, 0,25/2,5 mg/mL x 15 sol nasal conta-gotas      2128   \n",
       "517686                A-DERMA PHYS-AC GEL PURIFICANTE 200ML      3062   \n",
       "\n",
       "                                   clean_name_list  \\\n",
       "487822                                          []   \n",
       "209075                 ['Fluocaril Bi-Fluore 250']   \n",
       "164                    ['Velvet Azul Metileno 1%']   \n",
       "513872                                ['Vibrocil']   \n",
       "517686  ['A-Derma Phys-Ac Gel Espuma Purificante']   \n",
       "\n",
       "                                         clean_product_name       appy_id  \\\n",
       "487822      Chicco Protector De Mamilo Silicone 2 Pcs  0 M+            []   \n",
       "209075   Fluocaril Bi-Fluore 250, 2,5 Mg/G X 125 Pasta Dent        [2932]   \n",
       "164                  Azul Metileno 1% Velvet Galenicos 30Ml         [404]   \n",
       "513872  Vibrocil, 0,25/2,5 Mg/Ml X 15 Sol Nasal Conta-Gotas  [4519, 3195]   \n",
       "517686                A-Derma Phys-Ac Gel Purificante 200Ml        [1293]   \n",
       "\n",
       "                              newly_cleaned_product_name  \n",
       "487822   Chicco Protector De Mamilo Silicone 2 Pcs  0 M+  \n",
       "209075  Fluocaril Bi-Fluore 250, 2,5 mg X 125 Pasta Dent  \n",
       "164              Azul Metileno 1% Velvet Galenicos 30 ml  \n",
       "513872  Vibrocil, 0,25/2,5 ml X 15 Sol Nasal Conta-Gotas  \n",
       "517686            A-Derma Phys-Ac Gel Purificante 200 ml  "
      ]
     },
     "execution_count": 137,
     "metadata": {},
     "output_type": "execute_result"
    }
   ],
   "source": [
    "df.sample(5)"
   ]
  },
  {
   "cell_type": "code",
   "execution_count": 138,
   "metadata": {},
   "outputs": [],
   "source": [
    "import numpy as np\n",
    "df[\"recently_cleaned_product_name\"]=np.where( (df['newly_cleaned_product_name']==df[\"clean_product_name\"])\n",
    "                                                        , np.nan, df['newly_cleaned_product_name'])"
   ]
  },
  {
   "cell_type": "code",
   "execution_count": 139,
   "metadata": {},
   "outputs": [],
   "source": [
    "df.drop(columns=[\"newly_cleaned_product_name\"], axis=1,inplace=True)"
   ]
  },
  {
   "cell_type": "code",
   "execution_count": 141,
   "metadata": {},
   "outputs": [],
   "source": [
    "df.to_csv(\"cleaned_dataset.csv\")"
   ]
  },
  {
   "cell_type": "code",
   "execution_count": null,
   "metadata": {},
   "outputs": [],
   "source": []
  }
 ],
 "metadata": {
  "kernelspec": {
   "display_name": "Python 3",
   "language": "python",
   "name": "python3"
  },
  "language_info": {
   "codemirror_mode": {
    "name": "ipython",
    "version": 3
   },
   "file_extension": ".py",
   "mimetype": "text/x-python",
   "name": "python",
   "nbconvert_exporter": "python",
   "pygments_lexer": "ipython3",
   "version": "3.6.4"
  }
 },
 "nbformat": 4,
 "nbformat_minor": 2
}
